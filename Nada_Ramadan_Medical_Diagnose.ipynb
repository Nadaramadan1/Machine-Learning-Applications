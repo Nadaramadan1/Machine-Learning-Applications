{
  "nbformat": 4,
  "nbformat_minor": 0,
  "metadata": {
    "colab": {
      "provenance": [],
      "authorship_tag": "ABX9TyOQanw6sAI3oHZra8PJoxJ8",
      "include_colab_link": true
    },
    "kernelspec": {
      "name": "python3",
      "display_name": "Python 3"
    },
    "language_info": {
      "name": "python"
    }
  },
  "cells": [
    {
      "cell_type": "markdown",
      "metadata": {
        "id": "view-in-github",
        "colab_type": "text"
      },
      "source": [
        "<a href=\"https://colab.research.google.com/github/Nadaramadan1/Machine-Learning-Applications/blob/main/Nada_Ramadan_Medical_Diagnose.ipynb\" target=\"_parent\"><img src=\"https://colab.research.google.com/assets/colab-badge.svg\" alt=\"Open In Colab\"/></a>"
      ]
    },
    {
      "cell_type": "markdown",
      "source": [
        "# Data Cleaning"
      ],
      "metadata": {
        "id": "LewW2zSe39OI"
      }
    },
    {
      "cell_type": "code",
      "execution_count": null,
      "metadata": {
        "id": "UrIsL-pnJ2up"
      },
      "outputs": [],
      "source": [
        "# 📦 Core Libraries\n",
        "import pandas as pd\n",
        "import numpy as np\n",
        "import matplotlib.pyplot as plt\n",
        "import seaborn as sns\n",
        "\n",
        "# 🧠 Machine Learning\n",
        "from sklearn.model_selection import train_test_split, GridSearchCV, cross_val_score\n",
        "from sklearn.preprocessing import LabelEncoder, StandardScaler\n",
        "from sklearn.metrics import accuracy_score, classification_report, confusion_matrix\n",
        "from sklearn.linear_model import LogisticRegression\n",
        "from sklearn.tree import DecisionTreeClassifier\n",
        "from sklearn.ensemble import RandomForestClassifier, GradientBoostingClassifier\n",
        "from sklearn.svm import SVC\n",
        "from sklearn.neighbors import KNeighborsClassifier\n",
        "from xgboost import XGBClassifier\n",
        "from lightgbm import LGBMClassifier\n",
        "from imblearn.over_sampling import SMOTE"
      ]
    },
    {
      "cell_type": "code",
      "source": [
        "data = pd.read_csv('/content/synthetic_asthma_dataset.csv')\n",
        "data.head()"
      ],
      "metadata": {
        "colab": {
          "base_uri": "https://localhost:8080/",
          "height": 226
        },
        "id": "T_Bo7gAR1Eqd",
        "outputId": "e08e78f5-e357-4b78-c325-fbf6224907fa"
      },
      "execution_count": null,
      "outputs": [
        {
          "output_type": "execute_result",
          "data": {
            "text/plain": [
              "   Patient_ID  Age  Gender   BMI Smoking_Status  Family_History Allergies  \\\n",
              "0  ASTH100000   52  Female  27.6         Former               1       NaN   \n",
              "1  ASTH100001   15    Male  24.6         Former               0      Dust   \n",
              "2  ASTH100002   72  Female  17.6          Never               0       NaN   \n",
              "3  ASTH100003   61    Male  16.8          Never               0  Multiple   \n",
              "4  ASTH100004   21    Male  30.2          Never               0       NaN   \n",
              "\n",
              "  Air_Pollution_Level Physical_Activity_Level Occupation_Type Comorbidities  \\\n",
              "0            Moderate               Sedentary         Outdoor      Diabetes   \n",
              "1                 Low                Moderate          Indoor          Both   \n",
              "2            Moderate                Moderate          Indoor           NaN   \n",
              "3                High               Sedentary         Outdoor          Both   \n",
              "4            Moderate                  Active          Indoor           NaN   \n",
              "\n",
              "   Medication_Adherence  Number_of_ER_Visits  Peak_Expiratory_Flow  \\\n",
              "0                  0.38                    0                 421.0   \n",
              "1                  0.60                    2                 297.6   \n",
              "2                  0.38                    0                 303.3   \n",
              "3                  0.60                    1                 438.0   \n",
              "4                  0.82                    3                 535.0   \n",
              "\n",
              "   FeNO_Level  Has_Asthma Asthma_Control_Level  \n",
              "0        46.0           0                  NaN  \n",
              "1        22.9           0                  NaN  \n",
              "2        15.3           0                  NaN  \n",
              "3        40.1           1    Poorly Controlled  \n",
              "4        27.7           0                  NaN  "
            ],
            "text/html": [
              "\n",
              "  <div id=\"df-9062e44c-eadb-4e80-b50b-7cb50a52bd01\" class=\"colab-df-container\">\n",
              "    <div>\n",
              "<style scoped>\n",
              "    .dataframe tbody tr th:only-of-type {\n",
              "        vertical-align: middle;\n",
              "    }\n",
              "\n",
              "    .dataframe tbody tr th {\n",
              "        vertical-align: top;\n",
              "    }\n",
              "\n",
              "    .dataframe thead th {\n",
              "        text-align: right;\n",
              "    }\n",
              "</style>\n",
              "<table border=\"1\" class=\"dataframe\">\n",
              "  <thead>\n",
              "    <tr style=\"text-align: right;\">\n",
              "      <th></th>\n",
              "      <th>Patient_ID</th>\n",
              "      <th>Age</th>\n",
              "      <th>Gender</th>\n",
              "      <th>BMI</th>\n",
              "      <th>Smoking_Status</th>\n",
              "      <th>Family_History</th>\n",
              "      <th>Allergies</th>\n",
              "      <th>Air_Pollution_Level</th>\n",
              "      <th>Physical_Activity_Level</th>\n",
              "      <th>Occupation_Type</th>\n",
              "      <th>Comorbidities</th>\n",
              "      <th>Medication_Adherence</th>\n",
              "      <th>Number_of_ER_Visits</th>\n",
              "      <th>Peak_Expiratory_Flow</th>\n",
              "      <th>FeNO_Level</th>\n",
              "      <th>Has_Asthma</th>\n",
              "      <th>Asthma_Control_Level</th>\n",
              "    </tr>\n",
              "  </thead>\n",
              "  <tbody>\n",
              "    <tr>\n",
              "      <th>0</th>\n",
              "      <td>ASTH100000</td>\n",
              "      <td>52</td>\n",
              "      <td>Female</td>\n",
              "      <td>27.6</td>\n",
              "      <td>Former</td>\n",
              "      <td>1</td>\n",
              "      <td>NaN</td>\n",
              "      <td>Moderate</td>\n",
              "      <td>Sedentary</td>\n",
              "      <td>Outdoor</td>\n",
              "      <td>Diabetes</td>\n",
              "      <td>0.38</td>\n",
              "      <td>0</td>\n",
              "      <td>421.0</td>\n",
              "      <td>46.0</td>\n",
              "      <td>0</td>\n",
              "      <td>NaN</td>\n",
              "    </tr>\n",
              "    <tr>\n",
              "      <th>1</th>\n",
              "      <td>ASTH100001</td>\n",
              "      <td>15</td>\n",
              "      <td>Male</td>\n",
              "      <td>24.6</td>\n",
              "      <td>Former</td>\n",
              "      <td>0</td>\n",
              "      <td>Dust</td>\n",
              "      <td>Low</td>\n",
              "      <td>Moderate</td>\n",
              "      <td>Indoor</td>\n",
              "      <td>Both</td>\n",
              "      <td>0.60</td>\n",
              "      <td>2</td>\n",
              "      <td>297.6</td>\n",
              "      <td>22.9</td>\n",
              "      <td>0</td>\n",
              "      <td>NaN</td>\n",
              "    </tr>\n",
              "    <tr>\n",
              "      <th>2</th>\n",
              "      <td>ASTH100002</td>\n",
              "      <td>72</td>\n",
              "      <td>Female</td>\n",
              "      <td>17.6</td>\n",
              "      <td>Never</td>\n",
              "      <td>0</td>\n",
              "      <td>NaN</td>\n",
              "      <td>Moderate</td>\n",
              "      <td>Moderate</td>\n",
              "      <td>Indoor</td>\n",
              "      <td>NaN</td>\n",
              "      <td>0.38</td>\n",
              "      <td>0</td>\n",
              "      <td>303.3</td>\n",
              "      <td>15.3</td>\n",
              "      <td>0</td>\n",
              "      <td>NaN</td>\n",
              "    </tr>\n",
              "    <tr>\n",
              "      <th>3</th>\n",
              "      <td>ASTH100003</td>\n",
              "      <td>61</td>\n",
              "      <td>Male</td>\n",
              "      <td>16.8</td>\n",
              "      <td>Never</td>\n",
              "      <td>0</td>\n",
              "      <td>Multiple</td>\n",
              "      <td>High</td>\n",
              "      <td>Sedentary</td>\n",
              "      <td>Outdoor</td>\n",
              "      <td>Both</td>\n",
              "      <td>0.60</td>\n",
              "      <td>1</td>\n",
              "      <td>438.0</td>\n",
              "      <td>40.1</td>\n",
              "      <td>1</td>\n",
              "      <td>Poorly Controlled</td>\n",
              "    </tr>\n",
              "    <tr>\n",
              "      <th>4</th>\n",
              "      <td>ASTH100004</td>\n",
              "      <td>21</td>\n",
              "      <td>Male</td>\n",
              "      <td>30.2</td>\n",
              "      <td>Never</td>\n",
              "      <td>0</td>\n",
              "      <td>NaN</td>\n",
              "      <td>Moderate</td>\n",
              "      <td>Active</td>\n",
              "      <td>Indoor</td>\n",
              "      <td>NaN</td>\n",
              "      <td>0.82</td>\n",
              "      <td>3</td>\n",
              "      <td>535.0</td>\n",
              "      <td>27.7</td>\n",
              "      <td>0</td>\n",
              "      <td>NaN</td>\n",
              "    </tr>\n",
              "  </tbody>\n",
              "</table>\n",
              "</div>\n",
              "    <div class=\"colab-df-buttons\">\n",
              "\n",
              "  <div class=\"colab-df-container\">\n",
              "    <button class=\"colab-df-convert\" onclick=\"convertToInteractive('df-9062e44c-eadb-4e80-b50b-7cb50a52bd01')\"\n",
              "            title=\"Convert this dataframe to an interactive table.\"\n",
              "            style=\"display:none;\">\n",
              "\n",
              "  <svg xmlns=\"http://www.w3.org/2000/svg\" height=\"24px\" viewBox=\"0 -960 960 960\">\n",
              "    <path d=\"M120-120v-720h720v720H120Zm60-500h600v-160H180v160Zm220 220h160v-160H400v160Zm0 220h160v-160H400v160ZM180-400h160v-160H180v160Zm440 0h160v-160H620v160ZM180-180h160v-160H180v160Zm440 0h160v-160H620v160Z\"/>\n",
              "  </svg>\n",
              "    </button>\n",
              "\n",
              "  <style>\n",
              "    .colab-df-container {\n",
              "      display:flex;\n",
              "      gap: 12px;\n",
              "    }\n",
              "\n",
              "    .colab-df-convert {\n",
              "      background-color: #E8F0FE;\n",
              "      border: none;\n",
              "      border-radius: 50%;\n",
              "      cursor: pointer;\n",
              "      display: none;\n",
              "      fill: #1967D2;\n",
              "      height: 32px;\n",
              "      padding: 0 0 0 0;\n",
              "      width: 32px;\n",
              "    }\n",
              "\n",
              "    .colab-df-convert:hover {\n",
              "      background-color: #E2EBFA;\n",
              "      box-shadow: 0px 1px 2px rgba(60, 64, 67, 0.3), 0px 1px 3px 1px rgba(60, 64, 67, 0.15);\n",
              "      fill: #174EA6;\n",
              "    }\n",
              "\n",
              "    .colab-df-buttons div {\n",
              "      margin-bottom: 4px;\n",
              "    }\n",
              "\n",
              "    [theme=dark] .colab-df-convert {\n",
              "      background-color: #3B4455;\n",
              "      fill: #D2E3FC;\n",
              "    }\n",
              "\n",
              "    [theme=dark] .colab-df-convert:hover {\n",
              "      background-color: #434B5C;\n",
              "      box-shadow: 0px 1px 3px 1px rgba(0, 0, 0, 0.15);\n",
              "      filter: drop-shadow(0px 1px 2px rgba(0, 0, 0, 0.3));\n",
              "      fill: #FFFFFF;\n",
              "    }\n",
              "  </style>\n",
              "\n",
              "    <script>\n",
              "      const buttonEl =\n",
              "        document.querySelector('#df-9062e44c-eadb-4e80-b50b-7cb50a52bd01 button.colab-df-convert');\n",
              "      buttonEl.style.display =\n",
              "        google.colab.kernel.accessAllowed ? 'block' : 'none';\n",
              "\n",
              "      async function convertToInteractive(key) {\n",
              "        const element = document.querySelector('#df-9062e44c-eadb-4e80-b50b-7cb50a52bd01');\n",
              "        const dataTable =\n",
              "          await google.colab.kernel.invokeFunction('convertToInteractive',\n",
              "                                                    [key], {});\n",
              "        if (!dataTable) return;\n",
              "\n",
              "        const docLinkHtml = 'Like what you see? Visit the ' +\n",
              "          '<a target=\"_blank\" href=https://colab.research.google.com/notebooks/data_table.ipynb>data table notebook</a>'\n",
              "          + ' to learn more about interactive tables.';\n",
              "        element.innerHTML = '';\n",
              "        dataTable['output_type'] = 'display_data';\n",
              "        await google.colab.output.renderOutput(dataTable, element);\n",
              "        const docLink = document.createElement('div');\n",
              "        docLink.innerHTML = docLinkHtml;\n",
              "        element.appendChild(docLink);\n",
              "      }\n",
              "    </script>\n",
              "  </div>\n",
              "\n",
              "\n",
              "    <div id=\"df-88579672-ebfe-45f3-b09b-8437d2ab0622\">\n",
              "      <button class=\"colab-df-quickchart\" onclick=\"quickchart('df-88579672-ebfe-45f3-b09b-8437d2ab0622')\"\n",
              "                title=\"Suggest charts\"\n",
              "                style=\"display:none;\">\n",
              "\n",
              "<svg xmlns=\"http://www.w3.org/2000/svg\" height=\"24px\"viewBox=\"0 0 24 24\"\n",
              "     width=\"24px\">\n",
              "    <g>\n",
              "        <path d=\"M19 3H5c-1.1 0-2 .9-2 2v14c0 1.1.9 2 2 2h14c1.1 0 2-.9 2-2V5c0-1.1-.9-2-2-2zM9 17H7v-7h2v7zm4 0h-2V7h2v10zm4 0h-2v-4h2v4z\"/>\n",
              "    </g>\n",
              "</svg>\n",
              "      </button>\n",
              "\n",
              "<style>\n",
              "  .colab-df-quickchart {\n",
              "      --bg-color: #E8F0FE;\n",
              "      --fill-color: #1967D2;\n",
              "      --hover-bg-color: #E2EBFA;\n",
              "      --hover-fill-color: #174EA6;\n",
              "      --disabled-fill-color: #AAA;\n",
              "      --disabled-bg-color: #DDD;\n",
              "  }\n",
              "\n",
              "  [theme=dark] .colab-df-quickchart {\n",
              "      --bg-color: #3B4455;\n",
              "      --fill-color: #D2E3FC;\n",
              "      --hover-bg-color: #434B5C;\n",
              "      --hover-fill-color: #FFFFFF;\n",
              "      --disabled-bg-color: #3B4455;\n",
              "      --disabled-fill-color: #666;\n",
              "  }\n",
              "\n",
              "  .colab-df-quickchart {\n",
              "    background-color: var(--bg-color);\n",
              "    border: none;\n",
              "    border-radius: 50%;\n",
              "    cursor: pointer;\n",
              "    display: none;\n",
              "    fill: var(--fill-color);\n",
              "    height: 32px;\n",
              "    padding: 0;\n",
              "    width: 32px;\n",
              "  }\n",
              "\n",
              "  .colab-df-quickchart:hover {\n",
              "    background-color: var(--hover-bg-color);\n",
              "    box-shadow: 0 1px 2px rgba(60, 64, 67, 0.3), 0 1px 3px 1px rgba(60, 64, 67, 0.15);\n",
              "    fill: var(--button-hover-fill-color);\n",
              "  }\n",
              "\n",
              "  .colab-df-quickchart-complete:disabled,\n",
              "  .colab-df-quickchart-complete:disabled:hover {\n",
              "    background-color: var(--disabled-bg-color);\n",
              "    fill: var(--disabled-fill-color);\n",
              "    box-shadow: none;\n",
              "  }\n",
              "\n",
              "  .colab-df-spinner {\n",
              "    border: 2px solid var(--fill-color);\n",
              "    border-color: transparent;\n",
              "    border-bottom-color: var(--fill-color);\n",
              "    animation:\n",
              "      spin 1s steps(1) infinite;\n",
              "  }\n",
              "\n",
              "  @keyframes spin {\n",
              "    0% {\n",
              "      border-color: transparent;\n",
              "      border-bottom-color: var(--fill-color);\n",
              "      border-left-color: var(--fill-color);\n",
              "    }\n",
              "    20% {\n",
              "      border-color: transparent;\n",
              "      border-left-color: var(--fill-color);\n",
              "      border-top-color: var(--fill-color);\n",
              "    }\n",
              "    30% {\n",
              "      border-color: transparent;\n",
              "      border-left-color: var(--fill-color);\n",
              "      border-top-color: var(--fill-color);\n",
              "      border-right-color: var(--fill-color);\n",
              "    }\n",
              "    40% {\n",
              "      border-color: transparent;\n",
              "      border-right-color: var(--fill-color);\n",
              "      border-top-color: var(--fill-color);\n",
              "    }\n",
              "    60% {\n",
              "      border-color: transparent;\n",
              "      border-right-color: var(--fill-color);\n",
              "    }\n",
              "    80% {\n",
              "      border-color: transparent;\n",
              "      border-right-color: var(--fill-color);\n",
              "      border-bottom-color: var(--fill-color);\n",
              "    }\n",
              "    90% {\n",
              "      border-color: transparent;\n",
              "      border-bottom-color: var(--fill-color);\n",
              "    }\n",
              "  }\n",
              "</style>\n",
              "\n",
              "      <script>\n",
              "        async function quickchart(key) {\n",
              "          const quickchartButtonEl =\n",
              "            document.querySelector('#' + key + ' button');\n",
              "          quickchartButtonEl.disabled = true;  // To prevent multiple clicks.\n",
              "          quickchartButtonEl.classList.add('colab-df-spinner');\n",
              "          try {\n",
              "            const charts = await google.colab.kernel.invokeFunction(\n",
              "                'suggestCharts', [key], {});\n",
              "          } catch (error) {\n",
              "            console.error('Error during call to suggestCharts:', error);\n",
              "          }\n",
              "          quickchartButtonEl.classList.remove('colab-df-spinner');\n",
              "          quickchartButtonEl.classList.add('colab-df-quickchart-complete');\n",
              "        }\n",
              "        (() => {\n",
              "          let quickchartButtonEl =\n",
              "            document.querySelector('#df-88579672-ebfe-45f3-b09b-8437d2ab0622 button');\n",
              "          quickchartButtonEl.style.display =\n",
              "            google.colab.kernel.accessAllowed ? 'block' : 'none';\n",
              "        })();\n",
              "      </script>\n",
              "    </div>\n",
              "\n",
              "    </div>\n",
              "  </div>\n"
            ],
            "application/vnd.google.colaboratory.intrinsic+json": {
              "type": "dataframe",
              "variable_name": "data",
              "summary": "{\n  \"name\": \"data\",\n  \"rows\": 10000,\n  \"fields\": [\n    {\n      \"column\": \"Patient_ID\",\n      \"properties\": {\n        \"dtype\": \"string\",\n        \"num_unique_values\": 10000,\n        \"samples\": [\n          \"ASTH106252\",\n          \"ASTH104684\",\n          \"ASTH101731\"\n        ],\n        \"semantic_type\": \"\",\n        \"description\": \"\"\n      }\n    },\n    {\n      \"column\": \"Age\",\n      \"properties\": {\n        \"dtype\": \"number\",\n        \"std\": 25,\n        \"min\": 1,\n        \"max\": 89,\n        \"num_unique_values\": 89,\n        \"samples\": [\n          36,\n          85,\n          7\n        ],\n        \"semantic_type\": \"\",\n        \"description\": \"\"\n      }\n    },\n    {\n      \"column\": \"Gender\",\n      \"properties\": {\n        \"dtype\": \"category\",\n        \"num_unique_values\": 3,\n        \"samples\": [\n          \"Female\",\n          \"Male\",\n          \"Other\"\n        ],\n        \"semantic_type\": \"\",\n        \"description\": \"\"\n      }\n    },\n    {\n      \"column\": \"BMI\",\n      \"properties\": {\n        \"dtype\": \"number\",\n        \"std\": 4.874466229209307,\n        \"min\": 15.0,\n        \"max\": 45.0,\n        \"num_unique_values\": 254,\n        \"samples\": [\n          15.1,\n          32.3,\n          36.4\n        ],\n        \"semantic_type\": \"\",\n        \"description\": \"\"\n      }\n    },\n    {\n      \"column\": \"Smoking_Status\",\n      \"properties\": {\n        \"dtype\": \"category\",\n        \"num_unique_values\": 3,\n        \"samples\": [\n          \"Former\",\n          \"Never\",\n          \"Current\"\n        ],\n        \"semantic_type\": \"\",\n        \"description\": \"\"\n      }\n    },\n    {\n      \"column\": \"Family_History\",\n      \"properties\": {\n        \"dtype\": \"number\",\n        \"std\": 0,\n        \"min\": 0,\n        \"max\": 1,\n        \"num_unique_values\": 2,\n        \"samples\": [\n          0,\n          1\n        ],\n        \"semantic_type\": \"\",\n        \"description\": \"\"\n      }\n    },\n    {\n      \"column\": \"Allergies\",\n      \"properties\": {\n        \"dtype\": \"category\",\n        \"num_unique_values\": 4,\n        \"samples\": [\n          \"Multiple\",\n          \"Pets\"\n        ],\n        \"semantic_type\": \"\",\n        \"description\": \"\"\n      }\n    },\n    {\n      \"column\": \"Air_Pollution_Level\",\n      \"properties\": {\n        \"dtype\": \"category\",\n        \"num_unique_values\": 3,\n        \"samples\": [\n          \"Moderate\",\n          \"Low\"\n        ],\n        \"semantic_type\": \"\",\n        \"description\": \"\"\n      }\n    },\n    {\n      \"column\": \"Physical_Activity_Level\",\n      \"properties\": {\n        \"dtype\": \"category\",\n        \"num_unique_values\": 3,\n        \"samples\": [\n          \"Sedentary\",\n          \"Moderate\"\n        ],\n        \"semantic_type\": \"\",\n        \"description\": \"\"\n      }\n    },\n    {\n      \"column\": \"Occupation_Type\",\n      \"properties\": {\n        \"dtype\": \"category\",\n        \"num_unique_values\": 2,\n        \"samples\": [\n          \"Indoor\",\n          \"Outdoor\"\n        ],\n        \"semantic_type\": \"\",\n        \"description\": \"\"\n      }\n    },\n    {\n      \"column\": \"Comorbidities\",\n      \"properties\": {\n        \"dtype\": \"category\",\n        \"num_unique_values\": 3,\n        \"samples\": [\n          \"Diabetes\",\n          \"Both\"\n        ],\n        \"semantic_type\": \"\",\n        \"description\": \"\"\n      }\n    },\n    {\n      \"column\": \"Medication_Adherence\",\n      \"properties\": {\n        \"dtype\": \"number\",\n        \"std\": 0.22480855385102266,\n        \"min\": 0.0,\n        \"max\": 0.99,\n        \"num_unique_values\": 100,\n        \"samples\": [\n          0.13,\n          0.94\n        ],\n        \"semantic_type\": \"\",\n        \"description\": \"\"\n      }\n    },\n    {\n      \"column\": \"Number_of_ER_Visits\",\n      \"properties\": {\n        \"dtype\": \"number\",\n        \"std\": 1,\n        \"min\": 0,\n        \"max\": 6,\n        \"num_unique_values\": 7,\n        \"samples\": [\n          0,\n          2\n        ],\n        \"semantic_type\": \"\",\n        \"description\": \"\"\n      }\n    },\n    {\n      \"column\": \"Peak_Expiratory_Flow\",\n      \"properties\": {\n        \"dtype\": \"number\",\n        \"std\": 97.53111309563792,\n        \"min\": 150.0,\n        \"max\": 600.0,\n        \"num_unique_values\": 3468,\n        \"samples\": [\n          440.3,\n          286.7\n        ],\n        \"semantic_type\": \"\",\n        \"description\": \"\"\n      }\n    },\n    {\n      \"column\": \"FeNO_Level\",\n      \"properties\": {\n        \"dtype\": \"number\",\n        \"std\": 9.840184190658771,\n        \"min\": 5.0,\n        \"max\": 63.9,\n        \"num_unique_values\": 497,\n        \"samples\": [\n          45.7,\n          25.8\n        ],\n        \"semantic_type\": \"\",\n        \"description\": \"\"\n      }\n    },\n    {\n      \"column\": \"Has_Asthma\",\n      \"properties\": {\n        \"dtype\": \"number\",\n        \"std\": 0,\n        \"min\": 0,\n        \"max\": 1,\n        \"num_unique_values\": 2,\n        \"samples\": [\n          1,\n          0\n        ],\n        \"semantic_type\": \"\",\n        \"description\": \"\"\n      }\n    },\n    {\n      \"column\": \"Asthma_Control_Level\",\n      \"properties\": {\n        \"dtype\": \"category\",\n        \"num_unique_values\": 3,\n        \"samples\": [\n          \"Poorly Controlled\",\n          \"Not Controlled\"\n        ],\n        \"semantic_type\": \"\",\n        \"description\": \"\"\n      }\n    }\n  ]\n}"
            }
          },
          "metadata": {},
          "execution_count": 13
        }
      ]
    },
    {
      "cell_type": "code",
      "source": [
        "data.shape"
      ],
      "metadata": {
        "colab": {
          "base_uri": "https://localhost:8080/"
        },
        "id": "nTj_i7U9YZBL",
        "outputId": "92367429-8621-4cd8-fbd3-10f69823841c"
      },
      "execution_count": null,
      "outputs": [
        {
          "output_type": "execute_result",
          "data": {
            "text/plain": [
              "(10000, 17)"
            ]
          },
          "metadata": {},
          "execution_count": 14
        }
      ]
    },
    {
      "cell_type": "code",
      "source": [
        "data.info()"
      ],
      "metadata": {
        "colab": {
          "base_uri": "https://localhost:8080/"
        },
        "id": "GljZ5RzhYaQO",
        "outputId": "51c3335e-1ed5-4283-c455-d190650daa54"
      },
      "execution_count": null,
      "outputs": [
        {
          "output_type": "stream",
          "name": "stdout",
          "text": [
            "<class 'pandas.core.frame.DataFrame'>\n",
            "RangeIndex: 10000 entries, 0 to 9999\n",
            "Data columns (total 17 columns):\n",
            " #   Column                   Non-Null Count  Dtype  \n",
            "---  ------                   --------------  -----  \n",
            " 0   Patient_ID               10000 non-null  object \n",
            " 1   Age                      10000 non-null  int64  \n",
            " 2   Gender                   10000 non-null  object \n",
            " 3   BMI                      10000 non-null  float64\n",
            " 4   Smoking_Status           10000 non-null  object \n",
            " 5   Family_History           10000 non-null  int64  \n",
            " 6   Allergies                7064 non-null   object \n",
            " 7   Air_Pollution_Level      10000 non-null  object \n",
            " 8   Physical_Activity_Level  10000 non-null  object \n",
            " 9   Occupation_Type          10000 non-null  object \n",
            " 10  Comorbidities            5033 non-null   object \n",
            " 11  Medication_Adherence     10000 non-null  float64\n",
            " 12  Number_of_ER_Visits      10000 non-null  int64  \n",
            " 13  Peak_Expiratory_Flow     10000 non-null  float64\n",
            " 14  FeNO_Level               10000 non-null  float64\n",
            " 15  Has_Asthma               10000 non-null  int64  \n",
            " 16  Asthma_Control_Level     2433 non-null   object \n",
            "dtypes: float64(4), int64(4), object(9)\n",
            "memory usage: 1.3+ MB\n"
          ]
        }
      ]
    },
    {
      "cell_type": "code",
      "source": [
        "data.drop(['Patient_ID'],axis=1,inplace=True)"
      ],
      "metadata": {
        "id": "IAtR4uJxYc9p"
      },
      "execution_count": null,
      "outputs": []
    },
    {
      "cell_type": "code",
      "source": [
        "data.isnull().sum()"
      ],
      "metadata": {
        "colab": {
          "base_uri": "https://localhost:8080/",
          "height": 585
        },
        "id": "IVHdHCdZYoAu",
        "outputId": "d345abf6-d299-4c92-8bfd-b2c13f6791ac"
      },
      "execution_count": null,
      "outputs": [
        {
          "output_type": "execute_result",
          "data": {
            "text/plain": [
              "Age                           0\n",
              "Gender                        0\n",
              "BMI                           0\n",
              "Smoking_Status                0\n",
              "Family_History                0\n",
              "Allergies                  2936\n",
              "Air_Pollution_Level           0\n",
              "Physical_Activity_Level       0\n",
              "Occupation_Type               0\n",
              "Comorbidities              4967\n",
              "Medication_Adherence          0\n",
              "Number_of_ER_Visits           0\n",
              "Peak_Expiratory_Flow          0\n",
              "FeNO_Level                    0\n",
              "Has_Asthma                    0\n",
              "Asthma_Control_Level       7567\n",
              "dtype: int64"
            ],
            "text/html": [
              "<div>\n",
              "<style scoped>\n",
              "    .dataframe tbody tr th:only-of-type {\n",
              "        vertical-align: middle;\n",
              "    }\n",
              "\n",
              "    .dataframe tbody tr th {\n",
              "        vertical-align: top;\n",
              "    }\n",
              "\n",
              "    .dataframe thead th {\n",
              "        text-align: right;\n",
              "    }\n",
              "</style>\n",
              "<table border=\"1\" class=\"dataframe\">\n",
              "  <thead>\n",
              "    <tr style=\"text-align: right;\">\n",
              "      <th></th>\n",
              "      <th>0</th>\n",
              "    </tr>\n",
              "  </thead>\n",
              "  <tbody>\n",
              "    <tr>\n",
              "      <th>Age</th>\n",
              "      <td>0</td>\n",
              "    </tr>\n",
              "    <tr>\n",
              "      <th>Gender</th>\n",
              "      <td>0</td>\n",
              "    </tr>\n",
              "    <tr>\n",
              "      <th>BMI</th>\n",
              "      <td>0</td>\n",
              "    </tr>\n",
              "    <tr>\n",
              "      <th>Smoking_Status</th>\n",
              "      <td>0</td>\n",
              "    </tr>\n",
              "    <tr>\n",
              "      <th>Family_History</th>\n",
              "      <td>0</td>\n",
              "    </tr>\n",
              "    <tr>\n",
              "      <th>Allergies</th>\n",
              "      <td>2936</td>\n",
              "    </tr>\n",
              "    <tr>\n",
              "      <th>Air_Pollution_Level</th>\n",
              "      <td>0</td>\n",
              "    </tr>\n",
              "    <tr>\n",
              "      <th>Physical_Activity_Level</th>\n",
              "      <td>0</td>\n",
              "    </tr>\n",
              "    <tr>\n",
              "      <th>Occupation_Type</th>\n",
              "      <td>0</td>\n",
              "    </tr>\n",
              "    <tr>\n",
              "      <th>Comorbidities</th>\n",
              "      <td>4967</td>\n",
              "    </tr>\n",
              "    <tr>\n",
              "      <th>Medication_Adherence</th>\n",
              "      <td>0</td>\n",
              "    </tr>\n",
              "    <tr>\n",
              "      <th>Number_of_ER_Visits</th>\n",
              "      <td>0</td>\n",
              "    </tr>\n",
              "    <tr>\n",
              "      <th>Peak_Expiratory_Flow</th>\n",
              "      <td>0</td>\n",
              "    </tr>\n",
              "    <tr>\n",
              "      <th>FeNO_Level</th>\n",
              "      <td>0</td>\n",
              "    </tr>\n",
              "    <tr>\n",
              "      <th>Has_Asthma</th>\n",
              "      <td>0</td>\n",
              "    </tr>\n",
              "    <tr>\n",
              "      <th>Asthma_Control_Level</th>\n",
              "      <td>7567</td>\n",
              "    </tr>\n",
              "  </tbody>\n",
              "</table>\n",
              "</div><br><label><b>dtype:</b> int64</label>"
            ]
          },
          "metadata": {},
          "execution_count": 17
        }
      ]
    },
    {
      "cell_type": "code",
      "source": [
        "data.fillna({'Allergies': 'Unknown'}, inplace=True)\n"
      ],
      "metadata": {
        "id": "SbD86AtWacgQ"
      },
      "execution_count": null,
      "outputs": []
    },
    {
      "cell_type": "code",
      "source": [
        "data['Comorbidities'] = data['Comorbidities'].fillna('None')\n"
      ],
      "metadata": {
        "id": "3PSjEbOEaj4p"
      },
      "execution_count": null,
      "outputs": []
    },
    {
      "cell_type": "code",
      "source": [
        "from sklearn.ensemble import RandomForestClassifier\n",
        "\n",
        "# Prep data\n",
        "X = data.drop(columns=['Asthma_Control_Level'])\n",
        "y = data['Asthma_Control_Level'].dropna()\n",
        "X_model = X.loc[y.index]  # Align non-missing targets\n",
        "\n",
        "# Encode categorical + train\n",
        "from sklearn.preprocessing import LabelEncoder\n",
        "for col in X_model.select_dtypes(include='object').columns:\n",
        "    X_model[col] = LabelEncoder().fit_transform(X_model[col])\n",
        "\n",
        "model = RandomForestClassifier()\n",
        "model.fit(X_model, y)\n",
        "\n",
        "# Predict for missing rows\n",
        "missing_idx = data[data['Asthma_Control_Level'].isnull()].index\n",
        "X_missing = X.loc[missing_idx].copy()\n",
        "for col in X_missing.select_dtypes(include='object').columns:\n",
        "    X_missing[col] = LabelEncoder().fit_transform(X_missing[col])\n",
        "\n",
        "predicted = model.predict(X_missing)\n",
        "data.loc[missing_idx, 'Asthma_Control_Level'] = predicted\n"
      ],
      "metadata": {
        "id": "HOmbAr3QaK0L"
      },
      "execution_count": null,
      "outputs": []
    },
    {
      "cell_type": "code",
      "source": [
        "data.isnull().sum()"
      ],
      "metadata": {
        "colab": {
          "base_uri": "https://localhost:8080/",
          "height": 585
        },
        "id": "g0D7VxVtaOPq",
        "outputId": "a243fd11-2dc9-4312-ea4b-aaf2ef3ff50d"
      },
      "execution_count": null,
      "outputs": [
        {
          "output_type": "execute_result",
          "data": {
            "text/plain": [
              "Age                        0\n",
              "Gender                     0\n",
              "BMI                        0\n",
              "Smoking_Status             0\n",
              "Family_History             0\n",
              "Allergies                  0\n",
              "Air_Pollution_Level        0\n",
              "Physical_Activity_Level    0\n",
              "Occupation_Type            0\n",
              "Comorbidities              0\n",
              "Medication_Adherence       0\n",
              "Number_of_ER_Visits        0\n",
              "Peak_Expiratory_Flow       0\n",
              "FeNO_Level                 0\n",
              "Has_Asthma                 0\n",
              "Asthma_Control_Level       0\n",
              "dtype: int64"
            ],
            "text/html": [
              "<div>\n",
              "<style scoped>\n",
              "    .dataframe tbody tr th:only-of-type {\n",
              "        vertical-align: middle;\n",
              "    }\n",
              "\n",
              "    .dataframe tbody tr th {\n",
              "        vertical-align: top;\n",
              "    }\n",
              "\n",
              "    .dataframe thead th {\n",
              "        text-align: right;\n",
              "    }\n",
              "</style>\n",
              "<table border=\"1\" class=\"dataframe\">\n",
              "  <thead>\n",
              "    <tr style=\"text-align: right;\">\n",
              "      <th></th>\n",
              "      <th>0</th>\n",
              "    </tr>\n",
              "  </thead>\n",
              "  <tbody>\n",
              "    <tr>\n",
              "      <th>Age</th>\n",
              "      <td>0</td>\n",
              "    </tr>\n",
              "    <tr>\n",
              "      <th>Gender</th>\n",
              "      <td>0</td>\n",
              "    </tr>\n",
              "    <tr>\n",
              "      <th>BMI</th>\n",
              "      <td>0</td>\n",
              "    </tr>\n",
              "    <tr>\n",
              "      <th>Smoking_Status</th>\n",
              "      <td>0</td>\n",
              "    </tr>\n",
              "    <tr>\n",
              "      <th>Family_History</th>\n",
              "      <td>0</td>\n",
              "    </tr>\n",
              "    <tr>\n",
              "      <th>Allergies</th>\n",
              "      <td>0</td>\n",
              "    </tr>\n",
              "    <tr>\n",
              "      <th>Air_Pollution_Level</th>\n",
              "      <td>0</td>\n",
              "    </tr>\n",
              "    <tr>\n",
              "      <th>Physical_Activity_Level</th>\n",
              "      <td>0</td>\n",
              "    </tr>\n",
              "    <tr>\n",
              "      <th>Occupation_Type</th>\n",
              "      <td>0</td>\n",
              "    </tr>\n",
              "    <tr>\n",
              "      <th>Comorbidities</th>\n",
              "      <td>0</td>\n",
              "    </tr>\n",
              "    <tr>\n",
              "      <th>Medication_Adherence</th>\n",
              "      <td>0</td>\n",
              "    </tr>\n",
              "    <tr>\n",
              "      <th>Number_of_ER_Visits</th>\n",
              "      <td>0</td>\n",
              "    </tr>\n",
              "    <tr>\n",
              "      <th>Peak_Expiratory_Flow</th>\n",
              "      <td>0</td>\n",
              "    </tr>\n",
              "    <tr>\n",
              "      <th>FeNO_Level</th>\n",
              "      <td>0</td>\n",
              "    </tr>\n",
              "    <tr>\n",
              "      <th>Has_Asthma</th>\n",
              "      <td>0</td>\n",
              "    </tr>\n",
              "    <tr>\n",
              "      <th>Asthma_Control_Level</th>\n",
              "      <td>0</td>\n",
              "    </tr>\n",
              "  </tbody>\n",
              "</table>\n",
              "</div><br><label><b>dtype:</b> int64</label>"
            ]
          },
          "metadata": {},
          "execution_count": 21
        }
      ]
    },
    {
      "cell_type": "code",
      "source": [
        "data.duplicated().sum()"
      ],
      "metadata": {
        "colab": {
          "base_uri": "https://localhost:8080/"
        },
        "id": "BS4932d5ar4Y",
        "outputId": "bcf6d881-34f4-4403-c34d-0287f3cd1416"
      },
      "execution_count": null,
      "outputs": [
        {
          "output_type": "execute_result",
          "data": {
            "text/plain": [
              "np.int64(0)"
            ]
          },
          "metadata": {},
          "execution_count": 22
        }
      ]
    },
    {
      "cell_type": "code",
      "source": [
        "from sklearn.preprocessing import LabelEncoder\n",
        "\n",
        "# Create a LabelEncoder instance\n",
        "le = LabelEncoder()\n",
        "\n",
        "# Loop through all object-type columns\n",
        "for col in data.select_dtypes(include='object').columns:\n",
        "    data[col] = le.fit_transform(data[col])\n"
      ],
      "metadata": {
        "id": "kxGFMYr8bqgZ"
      },
      "execution_count": null,
      "outputs": []
    },
    {
      "cell_type": "code",
      "source": [
        "print(data.dtypes)\n"
      ],
      "metadata": {
        "colab": {
          "base_uri": "https://localhost:8080/"
        },
        "id": "CLLohlG9cFaz",
        "outputId": "3272a74e-3319-49ad-ca37-5ccd169767ba"
      },
      "execution_count": null,
      "outputs": [
        {
          "output_type": "stream",
          "name": "stdout",
          "text": [
            "Age                          int64\n",
            "Gender                       int64\n",
            "BMI                        float64\n",
            "Smoking_Status               int64\n",
            "Family_History               int64\n",
            "Allergies                    int64\n",
            "Air_Pollution_Level          int64\n",
            "Physical_Activity_Level      int64\n",
            "Occupation_Type              int64\n",
            "Comorbidities                int64\n",
            "Medication_Adherence       float64\n",
            "Number_of_ER_Visits          int64\n",
            "Peak_Expiratory_Flow       float64\n",
            "FeNO_Level                 float64\n",
            "Has_Asthma                   int64\n",
            "Asthma_Control_Level         int64\n",
            "dtype: object\n"
          ]
        }
      ]
    },
    {
      "cell_type": "markdown",
      "source": [
        "# Feature Scaling and Splitting"
      ],
      "metadata": {
        "id": "JJKIoLUO4Q7I"
      }
    },
    {
      "cell_type": "code",
      "source": [
        "def scale_data(X_train, X_test, X_val=None):\n",
        "    scaler = StandardScaler()\n",
        "    X_train_scaled = scaler.fit_transform(X_train)\n",
        "    X_test_scaled = scaler.transform(X_test)\n",
        "    X_val_scaled = scaler.transform(X_val) if X_val is not None else None\n",
        "    return X_train_scaled, X_test_scaled, X_val_scaled"
      ],
      "metadata": {
        "id": "pMNVDDsxfRSd"
      },
      "execution_count": null,
      "outputs": []
    },
    {
      "cell_type": "markdown",
      "source": [
        "# Modeling"
      ],
      "metadata": {
        "id": "FkP_MQbA5UQR"
      }
    },
    {
      "cell_type": "code",
      "source": [
        "# 📊 Define features and target\n",
        "X = data.drop(columns=['Has_Asthma'])   # Change to 'Asthma_Control_Level' if needed\n",
        "y = data['Has_Asthma']\n",
        "\n",
        "# 🧪 Train-test split\n",
        "X_train, X_test, y_train, y_test = train_test_split(X, y, test_size=0.2, random_state=42)\n",
        "\n",
        "# ⚖️ Scale the features\n",
        "scaler = StandardScaler()\n",
        "X_train_scaled = scaler.fit_transform(X_train)\n",
        "X_test_scaled = scaler.transform(X_test)\n",
        "\n",
        "# 🧠 Define models\n",
        "models = {\n",
        "    'Logistic Regression': LogisticRegression(max_iter=1000),\n",
        "    'Decision Tree': DecisionTreeClassifier(),\n",
        "    'Random Forest': RandomForestClassifier(),\n",
        "    'Support Vector Machine': SVC(),\n",
        "    'K-Nearest Neighbors': KNeighborsClassifier(),\n",
        "    'XGBoost': XGBClassifier(),\n",
        "\n",
        "}\n",
        "\n",
        "# 🚀 Train and evaluate each model\n",
        "for name, model in models.items():\n",
        "    model.fit(X_train_scaled, y_train)\n",
        "    predictions = model.predict(X_test_scaled)\n",
        "    acc = accuracy_score(y_test, predictions)\n",
        "    print(f\"{name}: Accuracy = {acc:.4f}\")\n"
      ],
      "metadata": {
        "colab": {
          "base_uri": "https://localhost:8080/"
        },
        "id": "ENqLvvgpe3iE",
        "outputId": "9a13f6b3-41ff-42e0-8f54-a165e19b48bd"
      },
      "execution_count": null,
      "outputs": [
        {
          "output_type": "stream",
          "name": "stdout",
          "text": [
            "Logistic Regression: Accuracy = 0.8910\n",
            "Decision Tree: Accuracy = 0.9995\n",
            "Random Forest: Accuracy = 0.9975\n",
            "Support Vector Machine: Accuracy = 0.9825\n",
            "K-Nearest Neighbors: Accuracy = 0.8965\n",
            "XGBoost: Accuracy = 0.9990\n"
          ]
        }
      ]
    },
    {
      "cell_type": "code",
      "source": [
        "# 🔄 5-fold cross-validation\n",
        "for name, model in models.items():\n",
        "    scores = cross_val_score(model, X_train_scaled, y_train, cv=5)\n",
        "    print(f\"{name}: CV Mean Accuracy = {scores.mean():.4f} | Std = {scores.std():.4f}\")\n"
      ],
      "metadata": {
        "colab": {
          "base_uri": "https://localhost:8080/"
        },
        "id": "r81392LzgKPu",
        "outputId": "f4a0b167-1e55-4df4-e4ad-f0c4ee4eb5bc"
      },
      "execution_count": null,
      "outputs": [
        {
          "output_type": "stream",
          "name": "stdout",
          "text": [
            "Logistic Regression: CV Mean Accuracy = 0.8828 | Std = 0.0078\n",
            "Decision Tree: CV Mean Accuracy = 0.9998 | Std = 0.0003\n",
            "Random Forest: CV Mean Accuracy = 0.9979 | Std = 0.0009\n",
            "Support Vector Machine: CV Mean Accuracy = 0.9760 | Std = 0.0027\n",
            "K-Nearest Neighbors: CV Mean Accuracy = 0.8846 | Std = 0.0054\n",
            "XGBoost: CV Mean Accuracy = 0.9998 | Std = 0.0003\n"
          ]
        }
      ]
    },
    {
      "cell_type": "markdown",
      "source": [
        "# Evaluation"
      ],
      "metadata": {
        "id": "5uApGyeZ6Xcp"
      }
    },
    {
      "cell_type": "code",
      "source": [
        "from sklearn.metrics import accuracy_score, classification_report, confusion_matrix\n",
        "\n",
        "def evaluate_model_basic(model, X_test, y_test):\n",
        "    predictions = model.predict(X_test)\n",
        "    acc = accuracy_score(y_test, predictions)\n",
        "    print(f\"Accuracy: {acc:.4f}\")\n",
        "    print(\"\\nClassification Report:\")\n",
        "    print(classification_report(y_test, predictions))\n",
        "    print(\"\\nConfusion Matrix:\")\n",
        "    print(confusion_matrix(y_test, predictions))\n",
        "\n",
        "# 🚀 Train and evaluate each model\n",
        "for name, model in models.items():\n",
        "    print(f\"\\n🔍 Evaluating {name}\")\n",
        "    model.fit(X_train_scaled, y_train)\n",
        "    evaluate_model_basic(model, X_test_scaled, y_test)\n"
      ],
      "metadata": {
        "colab": {
          "base_uri": "https://localhost:8080/"
        },
        "id": "MupLnSw96MIR",
        "outputId": "01de15d7-2f46-4c17-94f3-001b50e081e9"
      },
      "execution_count": null,
      "outputs": [
        {
          "output_type": "stream",
          "name": "stdout",
          "text": [
            "\n",
            "🔍 Evaluating Logistic Regression\n",
            "Accuracy: 0.8910\n",
            "\n",
            "Classification Report:\n",
            "              precision    recall  f1-score   support\n",
            "\n",
            "           0       0.91      0.95      0.93      1504\n",
            "           1       0.81      0.73      0.77       496\n",
            "\n",
            "    accuracy                           0.89      2000\n",
            "   macro avg       0.86      0.84      0.85      2000\n",
            "weighted avg       0.89      0.89      0.89      2000\n",
            "\n",
            "\n",
            "Confusion Matrix:\n",
            "[[1422   82]\n",
            " [ 136  360]]\n",
            "\n",
            "🔍 Evaluating Decision Tree\n",
            "Accuracy: 0.9995\n",
            "\n",
            "Classification Report:\n",
            "              precision    recall  f1-score   support\n",
            "\n",
            "           0       1.00      1.00      1.00      1504\n",
            "           1       1.00      1.00      1.00       496\n",
            "\n",
            "    accuracy                           1.00      2000\n",
            "   macro avg       1.00      1.00      1.00      2000\n",
            "weighted avg       1.00      1.00      1.00      2000\n",
            "\n",
            "\n",
            "Confusion Matrix:\n",
            "[[1504    0]\n",
            " [   1  495]]\n",
            "\n",
            "🔍 Evaluating Random Forest\n",
            "Accuracy: 0.9960\n",
            "\n",
            "Classification Report:\n",
            "              precision    recall  f1-score   support\n",
            "\n",
            "           0       0.99      1.00      1.00      1504\n",
            "           1       1.00      0.98      0.99       496\n",
            "\n",
            "    accuracy                           1.00      2000\n",
            "   macro avg       1.00      0.99      0.99      2000\n",
            "weighted avg       1.00      1.00      1.00      2000\n",
            "\n",
            "\n",
            "Confusion Matrix:\n",
            "[[1504    0]\n",
            " [   8  488]]\n",
            "\n",
            "🔍 Evaluating Support Vector Machine\n",
            "Accuracy: 0.9825\n",
            "\n",
            "Classification Report:\n",
            "              precision    recall  f1-score   support\n",
            "\n",
            "           0       0.98      1.00      0.99      1504\n",
            "           1       0.99      0.94      0.96       496\n",
            "\n",
            "    accuracy                           0.98      2000\n",
            "   macro avg       0.98      0.97      0.98      2000\n",
            "weighted avg       0.98      0.98      0.98      2000\n",
            "\n",
            "\n",
            "Confusion Matrix:\n",
            "[[1499    5]\n",
            " [  30  466]]\n",
            "\n",
            "🔍 Evaluating K-Nearest Neighbors\n",
            "Accuracy: 0.8965\n",
            "\n",
            "Classification Report:\n",
            "              precision    recall  f1-score   support\n",
            "\n",
            "           0       0.89      0.98      0.93      1504\n",
            "           1       0.91      0.65      0.76       496\n",
            "\n",
            "    accuracy                           0.90      2000\n",
            "   macro avg       0.90      0.81      0.85      2000\n",
            "weighted avg       0.90      0.90      0.89      2000\n",
            "\n",
            "\n",
            "Confusion Matrix:\n",
            "[[1471   33]\n",
            " [ 174  322]]\n",
            "\n",
            "🔍 Evaluating XGBoost\n",
            "Accuracy: 0.9990\n",
            "\n",
            "Classification Report:\n",
            "              precision    recall  f1-score   support\n",
            "\n",
            "           0       1.00      1.00      1.00      1504\n",
            "           1       1.00      1.00      1.00       496\n",
            "\n",
            "    accuracy                           1.00      2000\n",
            "   macro avg       1.00      1.00      1.00      2000\n",
            "weighted avg       1.00      1.00      1.00      2000\n",
            "\n",
            "\n",
            "Confusion Matrix:\n",
            "[[1503    1]\n",
            " [   1  495]]\n"
          ]
        }
      ]
    },
    {
      "cell_type": "code",
      "source": [
        "# 🏆 Visualize feature importance for Random Forest\n",
        "rf_model = RandomForestClassifier()\n",
        "rf_model.fit(X_train_scaled, y_train)\n",
        "\n",
        "importances = rf_model.feature_importances_\n",
        "feature_names = X.columns\n",
        "indices = importances.argsort()[::-1]\n",
        "\n",
        "plt.figure(figsize=(12,6))\n",
        "sns.barplot(x=importances[indices], y=[feature_names[i] for i in indices])\n",
        "plt.title(\"Feature Importances - Random Forest\")\n",
        "plt.xlabel(\"Importance\")\n",
        "plt.ylabel(\"Features\")\n",
        "plt.tight_layout()\n",
        "plt.show()\n"
      ],
      "metadata": {
        "colab": {
          "base_uri": "https://localhost:8080/",
          "height": 523
        },
        "id": "coLUY9GTgSbf",
        "outputId": "81004179-9e9d-425c-be93-dc46b4aa1e0e"
      },
      "execution_count": null,
      "outputs": [
        {
          "output_type": "display_data",
          "data": {
            "text/plain": [
              "<Figure size 1200x600 with 1 Axes>"
            ],
            "image/png": "[encoded data removed]"
          },
          "metadata": {}
        }
      ]
    },
    {
      "cell_type": "code",
      "source": [
        "# 📊 Set up plots\n",
        "fig, axes = plt.subplots(2, 3, figsize=(18, 12))\n",
        "axes = axes.flatten()\n",
        "\n",
        "# 🚀 Plot confusion matrix for each model\n",
        "for idx, (name, model) in enumerate(models.items()):\n",
        "    model.fit(X_train_scaled, y_train)\n",
        "    predictions = model.predict(X_test_scaled)\n",
        "    cm = confusion_matrix(y_test, predictions)\n",
        "\n",
        "    sns.heatmap(cm, annot=True, fmt='d', cmap='Blues', ax=axes[idx])\n",
        "    axes[idx].set_title(name)\n",
        "    axes[idx].set_xlabel(\"Predicted\")\n",
        "    axes[idx].set_ylabel(\"Actual\")\n",
        "\n",
        "# 🧠 Handle any leftover subplot space if <6 models\n",
        "for j in range(len(models), len(axes)):\n",
        "    fig.delaxes(axes[j])\n",
        "\n",
        "plt.tight_layout()\n",
        "plt.show()\n"
      ],
      "metadata": {
        "colab": {
          "base_uri": "https://localhost:8080/",
          "height": 699
        },
        "id": "Z9z7wLQEglD6",
        "outputId": "66eb26b0-adfa-4ee8-a2ee-586274da77f2"
      },
      "execution_count": null,
      "outputs": [
        {
          "output_type": "display_data",
          "data": {
            "text/plain": [
              "<Figure size 1800x1200 with 12 Axes>"
            ],
            "image/png": "[encoded data removed]"
          },
          "metadata": {}
        }
      ]
    },
    {
      "cell_type": "markdown",
      "source": [
        "# SMOTE"
      ],
      "metadata": {
        "id": "bhqMq89x6cke"
      }
    },
    {
      "cell_type": "code",
      "source": [
        "# ⚖️ Apply SMOTE to balance the training data\n",
        "smote = SMOTE(random_state=42)\n",
        "X_train_bal, y_train_bal = smote.fit_resample(X_train_scaled, y_train)\n",
        "\n",
        "# 🧠 Initialize models\n",
        "logistic_model = LogisticRegression(max_iter=1000)\n",
        "knn_model = KNeighborsClassifier()\n",
        "\n",
        "# 🚀 Train models on balanced data\n",
        "logistic_model.fit(X_train_bal, y_train_bal)\n",
        "knn_model.fit(X_train_bal, y_train_bal)\n",
        "\n",
        "# 🧪 Make predictions\n",
        "logistic_preds = logistic_model.predict(X_test_scaled)\n",
        "knn_preds = knn_model.predict(X_test_scaled)\n",
        "\n",
        "# 📊 Evaluate performance\n",
        "print(\"\\nLogistic Regression Report:\")\n",
        "print(classification_report(y_test, logistic_preds))\n",
        "\n",
        "print(\"Confusion Matrix:\\n\", confusion_matrix(y_test, logistic_preds))\n",
        "print(\"Accuracy:\", accuracy_score(y_test, logistic_preds))\n",
        "\n",
        "print(\"\\nK-Nearest Neighbors Report:\")\n",
        "print(classification_report(y_test, knn_preds))\n",
        "\n",
        "print(\"Confusion Matrix:\\n\", confusion_matrix(y_test, knn_preds))\n",
        "print(\"Accuracy:\", accuracy_score(y_test, knn_preds))\n"
      ],
      "metadata": {
        "colab": {
          "base_uri": "https://localhost:8080/"
        },
        "id": "7-T3WS_FhuRm",
        "outputId": "31606567-28b3-4b30-9e4f-83e35d327852"
      },
      "execution_count": null,
      "outputs": [
        {
          "output_type": "stream",
          "name": "stdout",
          "text": [
            "\n",
            "Logistic Regression Report:\n",
            "              precision    recall  f1-score   support\n",
            "\n",
            "           0       0.96      0.88      0.92      1504\n",
            "           1       0.70      0.89      0.78       496\n",
            "\n",
            "    accuracy                           0.88      2000\n",
            "   macro avg       0.83      0.88      0.85      2000\n",
            "weighted avg       0.90      0.88      0.88      2000\n",
            "\n",
            "Confusion Matrix:\n",
            " [[1317  187]\n",
            " [  56  440]]\n",
            "Accuracy: 0.8785\n",
            "\n",
            "K-Nearest Neighbors Report:\n",
            "              precision    recall  f1-score   support\n",
            "\n",
            "           0       0.96      0.86      0.91      1504\n",
            "           1       0.67      0.89      0.77       496\n",
            "\n",
            "    accuracy                           0.87      2000\n",
            "   macro avg       0.82      0.87      0.84      2000\n",
            "weighted avg       0.89      0.87      0.87      2000\n",
            "\n",
            "Confusion Matrix:\n",
            " [[1291  213]\n",
            " [  56  440]]\n",
            "Accuracy: 0.8655\n"
          ]
        }
      ]
    },
    {
      "cell_type": "markdown",
      "source": [
        "# Hyperparameter Tuning"
      ],
      "metadata": {
        "id": "7rGDOetd6ktc"
      }
    },
    {
      "cell_type": "code",
      "source": [
        "# ✅ Define parameter grid for Logistic Regression\n",
        "logistic_params = {\n",
        "    'C': [0.01, 0.1, 1, 10],\n",
        "    'penalty': ['l2'],\n",
        "    'solver': ['liblinear', 'saga']\n",
        "}\n",
        "\n",
        "# ✅ Define parameter grid for KNN\n",
        "knn_params = {\n",
        "    'n_neighbors': [3, 5, 7, 9],\n",
        "    'weights': ['uniform', 'distance'],\n",
        "    'metric': ['euclidean', 'manhattan']\n",
        "}\n",
        "\n",
        "# 📦 Create model objects\n",
        "logistic = LogisticRegression(max_iter=1000)\n",
        "knn = KNeighborsClassifier()\n",
        "\n",
        "# 🔁 Create GridSearch objects\n",
        "logistic_grid = GridSearchCV(logistic, logistic_params, cv=5, scoring='f1', verbose=1, n_jobs=-1)\n",
        "knn_grid = GridSearchCV(knn, knn_params, cv=5, scoring='f1', verbose=1, n_jobs=-1)\n",
        "\n",
        "# 🚀 Fit on balanced training data\n",
        "logistic_grid.fit(X_train_bal, y_train_bal)\n",
        "knn_grid.fit(X_train_bal, y_train_bal)\n",
        "\n",
        "# 🎯 Get best models\n",
        "best_logistic = logistic_grid.best_estimator_\n",
        "best_knn = knn_grid.best_estimator_\n",
        "\n",
        "# 🧪 Evaluate on test set\n",
        "from sklearn.metrics import classification_report\n",
        "\n",
        "print(\"\\n🔎 Logistic Regression Best Params:\", logistic_grid.best_params_)\n",
        "print(\"\\n📊 Logistic Regression Evaluation:\\n\", classification_report(y_test, best_logistic.predict(X_test_scaled)))\n",
        "\n",
        "print(\"\\n🔎 KNN Best Params:\", knn_grid.best_params_)\n",
        "print(\"\\n📊 KNN Evaluation:\\n\", classification_report(y_test, best_knn.predict(X_test_scaled)))\n"
      ],
      "metadata": {
        "colab": {
          "base_uri": "https://localhost:8080/"
        },
        "id": "fvkccXAviE2N",
        "outputId": "d94868e9-5aec-4139-f901-d80be0170357"
      },
      "execution_count": null,
      "outputs": [
        {
          "output_type": "stream",
          "name": "stdout",
          "text": [
            "Fitting 5 folds for each of 8 candidates, totalling 40 fits\n",
            "Fitting 5 folds for each of 16 candidates, totalling 80 fits\n",
            "\n",
            "🔎 Logistic Regression Best Params: {'C': 0.01, 'penalty': 'l2', 'solver': 'liblinear'}\n",
            "\n",
            "📊 Logistic Regression Evaluation:\n",
            "               precision    recall  f1-score   support\n",
            "\n",
            "           0       0.96      0.86      0.91      1504\n",
            "           1       0.68      0.90      0.77       496\n",
            "\n",
            "    accuracy                           0.87      2000\n",
            "   macro avg       0.82      0.88      0.84      2000\n",
            "weighted avg       0.89      0.87      0.87      2000\n",
            "\n",
            "\n",
            "🔎 KNN Best Params: {'metric': 'manhattan', 'n_neighbors': 3, 'weights': 'distance'}\n",
            "\n",
            "📊 KNN Evaluation:\n",
            "               precision    recall  f1-score   support\n",
            "\n",
            "           0       0.95      0.92      0.93      1504\n",
            "           1       0.77      0.84      0.80       496\n",
            "\n",
            "    accuracy                           0.90      2000\n",
            "   macro avg       0.86      0.88      0.87      2000\n",
            "weighted avg       0.90      0.90      0.90      2000\n",
            "\n"
          ]
        }
      ]
    },
    {
      "cell_type": "markdown",
      "source": [
        "# Cross_Validation"
      ],
      "metadata": {
        "id": "pp9WV1Uy-EQh"
      }
    },
    {
      "cell_type": "code",
      "source": [
        "# 🔀 Create train, test, validation split\n",
        "X_temp, X_val, y_temp, y_val = train_test_split(X, y, test_size=0.1, random_state=42)\n",
        "X_train, X_test, y_train, y_test = train_test_split(X_temp, y_temp, test_size=0.2, random_state=42)\n",
        "\n",
        "# ⚖️ Scale\n",
        "scaler = StandardScaler()\n",
        "X_train_scaled = scaler.fit_transform(X_train)\n",
        "X_test_scaled = scaler.transform(X_test)\n",
        "X_val_scaled = scaler.transform(X_val)\n"
      ],
      "metadata": {
        "id": "gEh94W7xirTd"
      },
      "execution_count": null,
      "outputs": []
    },
    {
      "cell_type": "code",
      "source": [
        "# 🎯 Train Random Forest\n",
        "rf = RandomForestClassifier(n_estimators=200, max_depth=10, min_samples_split=10, min_samples_leaf=5, max_features='sqrt')\n",
        "rf.fit(X_train_scaled, y_train)\n",
        "rf_val_preds = rf.predict(X_val_scaled)\n",
        "print(\"\\nRandom Forest Validation Report:\")\n",
        "print(classification_report(y_val, rf_val_preds))\n",
        "\n",
        "# 🎯 Train XGBoost\n",
        "xgb = XGBClassifier(n_estimators=500, learning_rate=0.05, max_depth=4, subsample=0.8,\n",
        "                    colsample_bytree=0.8, reg_alpha=0.1, reg_lambda=1, random_state=42)\n",
        "xgb.fit(X_train_scaled, y_train,\n",
        "        eval_set=[(X_val_scaled, y_val)], verbose=False)\n",
        "xgb_val_preds = xgb.predict(X_val_scaled)\n",
        "print(\"\\nXGBoost Validation Report:\")\n",
        "print(classification_report(y_val, xgb_val_preds))"
      ],
      "metadata": {
        "colab": {
          "base_uri": "https://localhost:8080/"
        },
        "id": "axmCD21Fj-Z2",
        "outputId": "fc55a3bc-a4e3-4d92-8e67-491b86e4e014"
      },
      "execution_count": null,
      "outputs": [
        {
          "output_type": "stream",
          "name": "stdout",
          "text": [
            "\n",
            "Random Forest Validation Report:\n",
            "              precision    recall  f1-score   support\n",
            "\n",
            "           0       0.99      1.00      1.00       752\n",
            "           1       1.00      0.97      0.99       248\n",
            "\n",
            "    accuracy                           0.99      1000\n",
            "   macro avg       1.00      0.99      0.99      1000\n",
            "weighted avg       0.99      0.99      0.99      1000\n",
            "\n",
            "\n",
            "XGBoost Validation Report:\n",
            "              precision    recall  f1-score   support\n",
            "\n",
            "           0       1.00      1.00      1.00       752\n",
            "           1       1.00      1.00      1.00       248\n",
            "\n",
            "    accuracy                           1.00      1000\n",
            "   macro avg       1.00      1.00      1.00      1000\n",
            "weighted avg       1.00      1.00      1.00      1000\n",
            "\n"
          ]
        }
      ]
    },
    {
      "cell_type": "code",
      "source": [],
      "metadata": {
        "id": "J_lmgGQE9wsi"
      },
      "execution_count": null,
      "outputs": []
    }
  ]
}